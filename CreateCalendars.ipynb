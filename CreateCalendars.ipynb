{
  "cells": [
    {
      "cell_type": "markdown",
      "metadata": {
        "id": "4VUl8woqZmBG"
      },
      "source": [
        "# Installs"
      ]
    },
    {
      "cell_type": "code",
      "execution_count": null,
      "metadata": {
        "colab": {
          "base_uri": "https://localhost:8080/"
        },
        "id": "HjR-ypLI4Q1Z",
        "outputId": "845a2402-a991-41ab-bb25-620b388e5103"
      },
      "outputs": [
        {
          "output_type": "stream",
          "name": "stdout",
          "text": [
            "Requirement already satisfied: numpy in /usr/local/lib/python3.10/dist-packages (1.26.4)\n",
            "Requirement already satisfied: gspread in /usr/local/lib/python3.10/dist-packages (6.1.4)\n",
            "Requirement already satisfied: google-auth in /usr/local/lib/python3.10/dist-packages (2.35.0)\n",
            "Requirement already satisfied: google-auth-oauthlib>=0.4.1 in /usr/local/lib/python3.10/dist-packages (from gspread) (1.2.1)\n",
            "Requirement already satisfied: cachetools<6.0,>=2.0.0 in /usr/local/lib/python3.10/dist-packages (from google-auth) (5.5.0)\n",
            "Requirement already satisfied: pyasn1-modules>=0.2.1 in /usr/local/lib/python3.10/dist-packages (from google-auth) (0.4.1)\n",
            "Requirement already satisfied: rsa<5,>=3.1.4 in /usr/local/lib/python3.10/dist-packages (from google-auth) (4.9)\n",
            "Requirement already satisfied: requests-oauthlib>=0.7.0 in /usr/local/lib/python3.10/dist-packages (from google-auth-oauthlib>=0.4.1->gspread) (1.3.1)\n",
            "Requirement already satisfied: pyasn1<0.7.0,>=0.4.6 in /usr/local/lib/python3.10/dist-packages (from pyasn1-modules>=0.2.1->google-auth) (0.6.1)\n",
            "Requirement already satisfied: oauthlib>=3.0.0 in /usr/local/lib/python3.10/dist-packages (from requests-oauthlib>=0.7.0->google-auth-oauthlib>=0.4.1->gspread) (3.2.2)\n",
            "Requirement already satisfied: requests>=2.0.0 in /usr/local/lib/python3.10/dist-packages (from requests-oauthlib>=0.7.0->google-auth-oauthlib>=0.4.1->gspread) (2.32.3)\n",
            "Requirement already satisfied: charset-normalizer<4,>=2 in /usr/local/lib/python3.10/dist-packages (from requests>=2.0.0->requests-oauthlib>=0.7.0->google-auth-oauthlib>=0.4.1->gspread) (3.4.0)\n",
            "Requirement already satisfied: idna<4,>=2.5 in /usr/local/lib/python3.10/dist-packages (from requests>=2.0.0->requests-oauthlib>=0.7.0->google-auth-oauthlib>=0.4.1->gspread) (3.10)\n",
            "Requirement already satisfied: urllib3<3,>=1.21.1 in /usr/local/lib/python3.10/dist-packages (from requests>=2.0.0->requests-oauthlib>=0.7.0->google-auth-oauthlib>=0.4.1->gspread) (2.2.3)\n",
            "Requirement already satisfied: certifi>=2017.4.17 in /usr/local/lib/python3.10/dist-packages (from requests>=2.0.0->requests-oauthlib>=0.7.0->google-auth-oauthlib>=0.4.1->gspread) (2024.8.30)\n",
            "Requirement already satisfied: gspread in /usr/local/lib/python3.10/dist-packages (6.1.4)\n",
            "Requirement already satisfied: google-auth>=1.12.0 in /usr/local/lib/python3.10/dist-packages (from gspread) (2.35.0)\n",
            "Requirement already satisfied: google-auth-oauthlib>=0.4.1 in /usr/local/lib/python3.10/dist-packages (from gspread) (1.2.1)\n",
            "Requirement already satisfied: cachetools<6.0,>=2.0.0 in /usr/local/lib/python3.10/dist-packages (from google-auth>=1.12.0->gspread) (5.5.0)\n",
            "Requirement already satisfied: pyasn1-modules>=0.2.1 in /usr/local/lib/python3.10/dist-packages (from google-auth>=1.12.0->gspread) (0.4.1)\n",
            "Requirement already satisfied: rsa<5,>=3.1.4 in /usr/local/lib/python3.10/dist-packages (from google-auth>=1.12.0->gspread) (4.9)\n",
            "Requirement already satisfied: requests-oauthlib>=0.7.0 in /usr/local/lib/python3.10/dist-packages (from google-auth-oauthlib>=0.4.1->gspread) (1.3.1)\n",
            "Requirement already satisfied: pyasn1<0.7.0,>=0.4.6 in /usr/local/lib/python3.10/dist-packages (from pyasn1-modules>=0.2.1->google-auth>=1.12.0->gspread) (0.6.1)\n",
            "Requirement already satisfied: oauthlib>=3.0.0 in /usr/local/lib/python3.10/dist-packages (from requests-oauthlib>=0.7.0->google-auth-oauthlib>=0.4.1->gspread) (3.2.2)\n",
            "Requirement already satisfied: requests>=2.0.0 in /usr/local/lib/python3.10/dist-packages (from requests-oauthlib>=0.7.0->google-auth-oauthlib>=0.4.1->gspread) (2.32.3)\n",
            "Requirement already satisfied: charset-normalizer<4,>=2 in /usr/local/lib/python3.10/dist-packages (from requests>=2.0.0->requests-oauthlib>=0.7.0->google-auth-oauthlib>=0.4.1->gspread) (3.4.0)\n",
            "Requirement already satisfied: idna<4,>=2.5 in /usr/local/lib/python3.10/dist-packages (from requests>=2.0.0->requests-oauthlib>=0.7.0->google-auth-oauthlib>=0.4.1->gspread) (3.10)\n",
            "Requirement already satisfied: urllib3<3,>=1.21.1 in /usr/local/lib/python3.10/dist-packages (from requests>=2.0.0->requests-oauthlib>=0.7.0->google-auth-oauthlib>=0.4.1->gspread) (2.2.3)\n",
            "Requirement already satisfied: certifi>=2017.4.17 in /usr/local/lib/python3.10/dist-packages (from requests>=2.0.0->requests-oauthlib>=0.7.0->google-auth-oauthlib>=0.4.1->gspread) (2024.8.30)\n",
            "Requirement already satisfied: pandas in /usr/local/lib/python3.10/dist-packages (2.2.3)\n",
            "Requirement already satisfied: numpy>=1.22.4 in /usr/local/lib/python3.10/dist-packages (from pandas) (1.26.4)\n",
            "Requirement already satisfied: python-dateutil>=2.8.2 in /usr/local/lib/python3.10/dist-packages (from pandas) (2.8.2)\n",
            "Requirement already satisfied: pytz>=2020.1 in /usr/local/lib/python3.10/dist-packages (from pandas) (2024.2)\n",
            "Requirement already satisfied: tzdata>=2022.7 in /usr/local/lib/python3.10/dist-packages (from pandas) (2024.2)\n",
            "Requirement already satisfied: six>=1.5 in /usr/local/lib/python3.10/dist-packages (from python-dateutil>=2.8.2->pandas) (1.16.0)\n",
            "Requirement already satisfied: icalendar in /usr/local/lib/python3.10/dist-packages (6.0.1)\n",
            "Requirement already satisfied: python-dateutil in /usr/local/lib/python3.10/dist-packages (from icalendar) (2.8.2)\n",
            "Requirement already satisfied: tzdata in /usr/local/lib/python3.10/dist-packages (from icalendar) (2024.2)\n",
            "Requirement already satisfied: six>=1.5 in /usr/local/lib/python3.10/dist-packages (from python-dateutil->icalendar) (1.16.0)\n",
            "Requirement already satisfied: pytz in /usr/local/lib/python3.10/dist-packages (2024.2)\n",
            "Requirement already satisfied: py in /usr/local/lib/python3.10/dist-packages (1.11.0)\n"
          ]
        }
      ],
      "source": [
        "!pip install numpy\n",
        "!pip install --upgrade gspread google-auth\n",
        "!pip install gspread\n",
        "!pip install --upgrade pandas\n",
        "!pip install icalendar\n",
        "!pip install pytz\n",
        "!pip install py"
      ]
    },
    {
      "cell_type": "markdown",
      "metadata": {
        "id": "sCgXevTqSqER"
      },
      "source": [
        "# Code"
      ]
    },
    {
      "cell_type": "code",
      "execution_count": null,
      "metadata": {
        "id": "o7R-WNtjSoXY",
        "colab": {
          "base_uri": "https://localhost:8080/"
        },
        "outputId": "634e3dcc-ca97-4788-838a-2c1068eadd39"
      },
      "outputs": [
        {
          "output_type": "stream",
          "name": "stdout",
          "text": [
            "Calendars saved to calendars\n",
            "Calendars successfully zipped.\n"
          ]
        }
      ],
      "source": [
        "from icalendar import Calendar, Event, vText\n",
        "from datetime import datetime\n",
        "import pytz\n",
        "import pandas as pd\n",
        "from pathlib import Path\n",
        "import shutil\n",
        "from google.colab import auth\n",
        "import gspread\n",
        "from google.auth import default\n",
        "\n",
        "auth.authenticate_user()\n",
        "creds, _ = default()\n",
        "gc = gspread.authorize(creds)\n",
        "\n",
        "def parse_schedule(schedule):\n",
        "    df = pd.DataFrame(schedule, columns=['Date', 'Name', 'Year', 'Month', 'Day', 'Start', 'End'])\n",
        "\n",
        "    df['Name'] = df['Name'].str.lower()\n",
        "    df[['Year', 'Month', 'Day', 'Start', 'End']] = df[['Year', 'Month', 'Day', 'Start', 'End']].apply(pd.to_numeric, errors='coerce')\n",
        "    df['Date'] = pd.to_datetime(df[['Year', 'Month', 'Day']], errors='coerce')\n",
        "    return df\n",
        "\n",
        "def create_employee_calendars(df):\n",
        "    employees = df['Name'].unique()\n",
        "    calendars = {}\n",
        "    for e in employees:\n",
        "        if e:\n",
        "            calendars[e] = Calendar()\n",
        "            calendars[e].add('prodid', '-//Sussex Insurance Shift Schedule//EN')\n",
        "            calendars[e].add('version', '2.0')\n",
        "            calendars[e].add('X-WR-CALNAME', f\"{e.title()}'s Shift Schedule\")\n",
        "            calendars[e].add('X-WR-TIMEZONE', 'Canada/Pacific')\n",
        "    return calendars\n",
        "\n",
        "def create_icalendar(calendars, df):\n",
        "    timezone = pytz.timezone(\"Canada/Pacific\")\n",
        "    for _, row in df.iterrows():\n",
        "        if pd.notna(row['Start']) and pd.notna(row['End']) and row['Name']:\n",
        "            event = Event()\n",
        "            event.add('summary', 'Shift')\n",
        "            event.add('description', 'Shift')\n",
        "            event['location'] = vText('Address')\n",
        "\n",
        "            start_time = timezone.localize(datetime(int(row['Year']), int(row['Month']), int(row['Day']), int(row['Start']), 0))\n",
        "            end_time = timezone.localize(datetime(int(row['Year']), int(row['Month']), int(row['Day']), int(row['End']), 0))\n",
        "\n",
        "            event.add('dtstart', start_time)\n",
        "            event.add('dtend', end_time)\n",
        "\n",
        "            if row['Name'] in calendars:\n",
        "                calendars[row['Name']].add_component(event)\n",
        "\n",
        "def save_calendars(calendars, df):\n",
        "    output_dir = Path('calendars')\n",
        "    output_dir.mkdir(exist_ok=True)\n",
        "\n",
        "    for employee_name, calendar in calendars.items():\n",
        "        if employee_name != 'stat':\n",
        "            # Get the unique year and month for the shifts of each employee\n",
        "            employee_df = df[df['Name'] == employee_name]\n",
        "            for _, row in employee_df.iterrows():\n",
        "                sanitized_name = employee_name.replace(' ', '_')\n",
        "                year = int(row['Year'])\n",
        "                month = int(row['Month'])\n",
        "\n",
        "                file_path = output_dir / f\"{year}_{month}_{sanitized_name}_shifts.ics\"\n",
        "                with open(file_path, 'wb') as f:\n",
        "                    f.write(calendar.to_ical())\n",
        "    print(f\"Calendars saved to {output_dir}\")\n",
        "\n",
        "def main():\n",
        "    try:\n",
        "        cal = gc.open('Schedule')\n",
        "        sheet = cal.sheet1\n",
        "        schedule = sheet.get_all_values()\n",
        "\n",
        "        df = parse_schedule(schedule)\n",
        "\n",
        "        calendars = create_employee_calendars(df)\n",
        "        create_icalendar(calendars, df)\n",
        "        save_calendars(calendars, df)\n",
        "\n",
        "        shutil.make_archive('calendars', 'zip', 'calendars')\n",
        "        print(\"Calendars successfully zipped.\")\n",
        "    except Exception as e:\n",
        "        print(f\"An error occurred: {e}\")\n",
        "\n",
        "if __name__ == \"__main__\":\n",
        "    main()\n"
      ]
    }
  ],
  "metadata": {
    "colab": {
      "provenance": []
    },
    "kernelspec": {
      "display_name": "Python 3",
      "name": "python3"
    },
    "language_info": {
      "name": "python"
    }
  },
  "nbformat": 4,
  "nbformat_minor": 0
}